{
 "cells": [
  {
   "cell_type": "code",
   "execution_count": 1,
   "id": "c44bb3dd-d6e6-4369-a952-415135d66c95",
   "metadata": {
    "tags": []
   },
   "outputs": [
    {
     "name": "stdout",
     "output_type": "stream",
     "text": [
      "1a97246d1bd20b664a657a3b3a56ef0d2370c64760b37136b149b7eda059fb99\n",
      "Text detection is in progress...\n",
      "Text detection is in progress...\n",
      "Text detection is in progress...\n",
      "Text detection succeeded!\n",
      "10.0\n"
     ]
    }
   ],
   "source": [
    "import boto3\n",
    "import time\n",
    "import numpy as np\n",
    "import cv2\n",
    "import matplotlib.pyplot as plt\n",
    "\n",
    "my_session = boto3.session.Session()\n",
    "my_region = my_session.region_name\n",
    "\n",
    "# Create a Rekognition client\n",
    "rekognition = boto3.client(\"rekognition\",\n",
    "                           region_name=my_region)\n",
    "\n",
    "# Specify the video source\n",
    "bucket_name = \"rekognition-video-console-demo-iad-575785594424-1688320007\"\n",
    "s3_key = \"rekon-video/numbers_10_fps_h264.mp4\"\n",
    "video_source = {\n",
    "    \"S3Object\": {\n",
    "        \"Bucket\": bucket_name,\n",
    "        \"Name\": s3_key\n",
    "    }\n",
    "}\n",
    "\n",
    "#### Start text detection\n",
    "response = rekognition.start_text_detection(\n",
    "    Video=video_source,\n",
    ")\n",
    "\n",
    "# Get the job id\n",
    "job_id = response[\"JobId\"]\n",
    "print(job_id)\n",
    "\n",
    "# Poll for text detection results\n",
    "import time\n",
    "while True:\n",
    "    response = rekognition.get_text_detection(JobId=job_id)\n",
    "    status = response[\"JobStatus\"]\n",
    "    if status == \"IN_PROGRESS\":\n",
    "        print(\"Text detection is in progress...\")\n",
    "        time.sleep(5) # Wait for a while and then check again\n",
    "    elif status == \"SUCCEEDED\":\n",
    "        print(\"Text detection succeeded!\")\n",
    "        break # Exit the loop\n",
    "    elif status == \"FAILED\":\n",
    "        print(\"Text detection failed!\")\n",
    "        break # Exit the loop\n",
    "    else:\n",
    "        print(\"Unknown status!\")\n",
    "        break # Exit the loop\n",
    "        \n",
    "response = rekognition.get_text_detection(JobId=job_id)\n",
    "text_detections = response[\"TextDetections\"]\n",
    "print(response['VideoMetadata']['FrameRate'])"
   ]
  },
  {
   "cell_type": "code",
   "execution_count": 2,
   "id": "6b341b7c-5f84-4a9c-b470-c7629a06c126",
   "metadata": {
    "scrolled": true,
    "tags": []
   },
   "outputs": [
    {
     "name": "stdout",
     "output_type": "stream",
     "text": [
      "time in sec:  2\n",
      "FRAME NUMBER:  20\n",
      "Timestamp: 2000\n",
      "Detected Text: C\n",
      "COUNTER:  2\n",
      "counter_parent:  1\n",
      "========\n"
     ]
    }
   ],
   "source": [
    "# Process text detection results\n",
    "counter = 0\n",
    "counter_parent= 0\n",
    "set_of_frames = set()\n",
    "set_of_sec = set()\n",
    "for text_detection in text_detections:\n",
    "    # if parent_id is None:\n",
    "    #     continue\n",
    "    counter += 1\n",
    "    # Get text detection attributes\n",
    "    timestamp = text_detection[\"Timestamp\"]\n",
    "    detected_text = text_detection[\"TextDetection\"][\"DetectedText\"]\n",
    "    confidence = text_detection[\"TextDetection\"][\"Confidence\"]\n",
    "    geometry = text_detection[\"TextDetection\"][\"Geometry\"]\n",
    "    type = text_detection[\"TextDetection\"][\"Type\"]\n",
    "    parent_id = text_detection[\"TextDetection\"].get(\"ParentId\", None) # Optional\n",
    "    \n",
    "    if(text_detection[\"TextDetection\"][\"Type\"] == \"WORD\"):\n",
    "        sec = int(timestamp/1000)\n",
    "        set_of_sec.add(sec)\n",
    "        frame_number = int((timestamp / 1000) * response['VideoMetadata']['FrameRate'])\n",
    "        set_of_frames.add(frame_number)\n",
    "        \n",
    "        print(\"time in sec: \", sec)\n",
    "        print(\"FRAME NUMBER: \", frame_number)\n",
    "        # Print text detection attributes\n",
    "        print(f\"Timestamp: {timestamp}\")\n",
    "        print(f\"Detected Text: {detected_text}\")\n",
    "        \n",
    "        counter_parent += 1\n",
    "\n",
    "        print(\"COUNTER: \", counter)\n",
    "        print(\"counter_parent: \", counter_parent)\n",
    "        print(\"========\")"
   ]
  },
  {
   "cell_type": "code",
   "execution_count": 5,
   "id": "51398d4f-0aee-4c35-9dcb-6ca8a7816878",
   "metadata": {
    "tags": []
   },
   "outputs": [
    {
     "name": "stdout",
     "output_type": "stream",
     "text": [
      "Text detected from following frames:  [20]\n",
      "Text detected from number of frames:  1\n",
      "=====\n",
      "Text detected from following seconds:  [2]\n",
      "Text detected from number of seconds:  1\n"
     ]
    }
   ],
   "source": [
    "print(\"Text detected from following frames: \", sorted(set_of_frames))\n",
    "print(\"Text detected from number of frames: \", len(set_of_frames))\n",
    "print(\"=====\")\n",
    "\n",
    "print(\"Text detected from following seconds: \", sorted(set_of_sec))\n",
    "print(\"Text detected from number of seconds: \", len(set_of_sec))"
   ]
  },
  {
   "cell_type": "markdown",
   "id": "0eeaf167-206c-4e08-9f40-46842cfa0424",
   "metadata": {},
   "source": [
    "## Plotting"
   ]
  },
  {
   "cell_type": "code",
   "execution_count": 4,
   "id": "3a1182e6-90e7-484a-9c4a-d5e606a8aadb",
   "metadata": {
    "scrolled": true,
    "tags": []
   },
   "outputs": [
    {
     "name": "stdout",
     "output_type": "stream",
     "text": [
      "LINE\n",
      "WORD\n",
      "time in sec:  2\n",
      "Frame Number:  20\n",
      ">>>>>>> Detected Text:  C\n"
     ]
    },
    {
     "data": {
      "image/png": "[encoded data removed]",
      "text/plain": [
       "<Figure size 640x480 with 1 Axes>"
      ]
     },
     "metadata": {},
     "output_type": "display_data"
    }
   ],
   "source": [
    "# Initialize clients\n",
    "s3_client = boto3.client('s3')\n",
    "\n",
    "response = rekognition.get_text_detection(JobId=job_id)\n",
    "text_detections = response[\"TextDetections\"]\n",
    "\n",
    "# Download the video from S3\n",
    "s3_client.download_file(bucket_name, s3_key, 'downloaded_video.mp4')\n",
    "\n",
    "# Open the video file with OpenCV\n",
    "cap = cv2.VideoCapture('downloaded_video.mp4')\n",
    "\n",
    "# Process each detection\n",
    "for detection in text_detections:\n",
    "    print(detection[\"TextDetection\"][\"Type\"])\n",
    "    if(detection[\"TextDetection\"][\"Type\"] == \"WORD\"):\n",
    "        detected_text = detection[\"TextDetection\"]['DetectedText']\n",
    "        confidence = detection[\"TextDetection\"]['Confidence']\n",
    "        timestamp = detection['Timestamp']\n",
    "\n",
    "        # Calculate the frame number from the timestamp\n",
    "        frame_number = int((timestamp / 1000) * cap.get(cv2.CAP_PROP_FPS))\n",
    "        print(\"time in sec: \", int(timestamp/1000))\n",
    "        print(\"Frame Number: \", frame_number)\n",
    "\n",
    "        # Set the video frame position\n",
    "        cap.set(cv2.CAP_PROP_POS_FRAMES, frame_number)\n",
    "\n",
    "        # Read the frame\n",
    "        ret, frame = cap.read()\n",
    "        if not ret:\n",
    "            continue\n",
    "\n",
    "        # Convert the frame to a PIL image\n",
    "        frame_image = cv2.cvtColor(frame, cv2.COLOR_BGR2RGB)\n",
    "        print(\">>>>>>> Detected Text: \", detected_text)\n",
    "\n",
    "\n",
    "        # Display the frame\n",
    "        plt.imshow(frame_image)\n",
    "        plt.show()"
   ]
  },
  {
   "cell_type": "code",
   "execution_count": null,
   "id": "b56a28bd-5a5f-49d2-afc2-0218451e0e77",
   "metadata": {},
   "outputs": [],
   "source": []
  },
  {
   "cell_type": "code",
   "execution_count": null,
   "id": "22d235a1-0dec-45b1-ac96-20c56eecb62a",
   "metadata": {},
   "outputs": [],
   "source": []
  }
 ],
 "metadata": {
  "kernelspec": {
   "display_name": "conda_pytorch_p310",
   "language": "python",
   "name": "conda_pytorch_p310"
  },
  "language_info": {
   "codemirror_mode": {
    "name": "ipython",
    "version": 3
   },
   "file_extension": ".py",
   "mimetype": "text/x-python",
   "name": "python",
   "nbconvert_exporter": "python",
   "pygments_lexer": "ipython3",
   "version": "3.10.14"
  }
 },
 "nbformat": 4,
 "nbformat_minor": 5
}
